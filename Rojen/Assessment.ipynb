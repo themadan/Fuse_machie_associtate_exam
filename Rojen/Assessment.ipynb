{
 "cells": [
  {
   "cell_type": "code",
   "execution_count": 1,
   "metadata": {
    "colab": {},
    "colab_type": "code",
    "id": "A5oFDXGdHny8"
   },
   "outputs": [],
   "source": [
    "import numpy as np\n",
    "import pandas as pd\n",
    "import matplotlib.pyplot as plt"
   ]
  },
  {
   "cell_type": "markdown",
   "metadata": {
    "colab_type": "text",
    "id": "40tpheVHS9LO"
   },
   "source": [
    "# Importing Dataset"
   ]
  },
  {
   "cell_type": "code",
   "execution_count": 2,
   "metadata": {
    "colab": {
     "base_uri": "https://localhost:8080/",
     "height": 425
    },
    "colab_type": "code",
    "id": "uqWFSppEH6kQ",
    "outputId": "fe6c0ed3-b76b-47eb-a695-c1d897fdbba3"
   },
   "outputs": [
    {
     "name": "stdout",
     "output_type": "stream",
     "text": [
      "<class 'pandas.core.frame.DataFrame'>\n",
      "RangeIndex: 200000 entries, 0 to 199999\n",
      "Data columns (total 16 columns):\n",
      "maker                  171819 non-null object\n",
      "model                  137956 non-null object\n",
      "mileage                182252 non-null float64\n",
      "manufacture_year       181223 non-null float64\n",
      "engine_displacement    159210 non-null float64\n",
      "engine_power           170868 non-null float64\n",
      "body_type              136005 non-null object\n",
      "color_slug             12240 non-null object\n",
      "stk_year               102359 non-null object\n",
      "transmission           160413 non-null object\n",
      "door_count             164243 non-null object\n",
      "seat_count             156800 non-null object\n",
      "fuel_type              94681 non-null object\n",
      "date_created           200000 non-null object\n",
      "date_last_seen         200000 non-null object\n",
      "price_eur              200000 non-null float64\n",
      "dtypes: float64(5), object(11)\n",
      "memory usage: 24.4+ MB\n"
     ]
    }
   ],
   "source": [
    "dataset = pd.read_csv('Car-Ads.csv')\n",
    "dataset.info()"
   ]
  },
  {
   "cell_type": "markdown",
   "metadata": {
    "colab_type": "text",
    "id": "mS-oKLa1g-Hx"
   },
   "source": [
    "#Data Wrangling"
   ]
  },
  {
   "cell_type": "markdown",
   "metadata": {
    "colab_type": "text",
    "id": "HU4FpCmkTFEC"
   },
   "source": [
    "Selecting the features which has 80% or more non-null values."
   ]
  },
  {
   "cell_type": "code",
   "execution_count": 3,
   "metadata": {
    "colab": {
     "base_uri": "https://localhost:8080/",
     "height": 609
    },
    "colab_type": "code",
    "id": "WdT1gSkNU1Lj",
    "outputId": "7cfd68c2-37e0-4856-bfa9-710de492e205"
   },
   "outputs": [
    {
     "data": {
      "text/html": [
       "<div>\n",
       "<style scoped>\n",
       "    .dataframe tbody tr th:only-of-type {\n",
       "        vertical-align: middle;\n",
       "    }\n",
       "\n",
       "    .dataframe tbody tr th {\n",
       "        vertical-align: top;\n",
       "    }\n",
       "\n",
       "    .dataframe thead th {\n",
       "        text-align: right;\n",
       "    }\n",
       "</style>\n",
       "<table border=\"1\" class=\"dataframe\">\n",
       "  <thead>\n",
       "    <tr style=\"text-align: right;\">\n",
       "      <th></th>\n",
       "      <th>mileage</th>\n",
       "      <th>manufacture_year</th>\n",
       "      <th>engine_displacement</th>\n",
       "      <th>engine_power</th>\n",
       "      <th>transmission</th>\n",
       "      <th>door_count</th>\n",
       "      <th>seat_count</th>\n",
       "      <th>date_created</th>\n",
       "      <th>date_last_seen</th>\n",
       "      <th>price_eur</th>\n",
       "    </tr>\n",
       "  </thead>\n",
       "  <tbody>\n",
       "    <tr>\n",
       "      <th>0</th>\n",
       "      <td>178000.0</td>\n",
       "      <td>2000.0</td>\n",
       "      <td>1390.0</td>\n",
       "      <td>55.0</td>\n",
       "      <td>man</td>\n",
       "      <td>4</td>\n",
       "      <td>5</td>\n",
       "      <td>2016-01-03 19:42:48.205853+00:00</td>\n",
       "      <td>2016-01-07 00:56:35.766128+00:00</td>\n",
       "      <td>2500.30</td>\n",
       "    </tr>\n",
       "    <tr>\n",
       "      <th>1</th>\n",
       "      <td>135000.0</td>\n",
       "      <td>2007.0</td>\n",
       "      <td>1149.0</td>\n",
       "      <td>55.0</td>\n",
       "      <td>man</td>\n",
       "      <td>4</td>\n",
       "      <td>5</td>\n",
       "      <td>2015-12-08 08:46:03.020179+00:00</td>\n",
       "      <td>2016-01-18 19:02:24.218185+00:00</td>\n",
       "      <td>2980.24</td>\n",
       "    </tr>\n",
       "    <tr>\n",
       "      <th>2</th>\n",
       "      <td>138000.0</td>\n",
       "      <td>2005.0</td>\n",
       "      <td>1984.0</td>\n",
       "      <td>147.0</td>\n",
       "      <td>man</td>\n",
       "      <td>4.0</td>\n",
       "      <td>5.0</td>\n",
       "      <td>2016-03-05 22:09:11.127858+00:00</td>\n",
       "      <td>2016-07-03 17:39:48.838084+00:00</td>\n",
       "      <td>8010.25</td>\n",
       "    </tr>\n",
       "    <tr>\n",
       "      <th>3</th>\n",
       "      <td>105000.0</td>\n",
       "      <td>2009.0</td>\n",
       "      <td>NaN</td>\n",
       "      <td>NaN</td>\n",
       "      <td>NaN</td>\n",
       "      <td>None</td>\n",
       "      <td>None</td>\n",
       "      <td>2015-12-12 19:48:16.546082+00:00</td>\n",
       "      <td>2016-01-02 10:02:05.676711+00:00</td>\n",
       "      <td>2300.26</td>\n",
       "    </tr>\n",
       "    <tr>\n",
       "      <th>4</th>\n",
       "      <td>129385.0</td>\n",
       "      <td>2003.0</td>\n",
       "      <td>NaN</td>\n",
       "      <td>NaN</td>\n",
       "      <td>NaN</td>\n",
       "      <td>None</td>\n",
       "      <td>None</td>\n",
       "      <td>2016-01-01 17:28:46.527414+00:00</td>\n",
       "      <td>2016-01-17 22:49:09.853789+00:00</td>\n",
       "      <td>2800.30</td>\n",
       "    </tr>\n",
       "    <tr>\n",
       "      <th>...</th>\n",
       "      <td>...</td>\n",
       "      <td>...</td>\n",
       "      <td>...</td>\n",
       "      <td>...</td>\n",
       "      <td>...</td>\n",
       "      <td>...</td>\n",
       "      <td>...</td>\n",
       "      <td>...</td>\n",
       "      <td>...</td>\n",
       "      <td>...</td>\n",
       "    </tr>\n",
       "    <tr>\n",
       "      <th>199995</th>\n",
       "      <td>280000.0</td>\n",
       "      <td>1997.0</td>\n",
       "      <td>NaN</td>\n",
       "      <td>NaN</td>\n",
       "      <td>NaN</td>\n",
       "      <td>None</td>\n",
       "      <td>None</td>\n",
       "      <td>2015-12-12 17:05:30.968304+00:00</td>\n",
       "      <td>2015-12-15 01:22:14.496198+00:00</td>\n",
       "      <td>1299.15</td>\n",
       "    </tr>\n",
       "    <tr>\n",
       "      <th>199996</th>\n",
       "      <td>NaN</td>\n",
       "      <td>2000.0</td>\n",
       "      <td>1900.0</td>\n",
       "      <td>66.0</td>\n",
       "      <td>man</td>\n",
       "      <td>None</td>\n",
       "      <td>None</td>\n",
       "      <td>2015-11-14 20:36:38.222092+00:00</td>\n",
       "      <td>2016-01-27 20:40:15.463610+00:00</td>\n",
       "      <td>2072.54</td>\n",
       "    </tr>\n",
       "    <tr>\n",
       "      <th>199997</th>\n",
       "      <td>150000.0</td>\n",
       "      <td>2006.0</td>\n",
       "      <td>NaN</td>\n",
       "      <td>NaN</td>\n",
       "      <td>man</td>\n",
       "      <td>None</td>\n",
       "      <td>None</td>\n",
       "      <td>2015-12-28 01:50:23.539210+00:00</td>\n",
       "      <td>2015-12-29 03:51:10.129326+00:00</td>\n",
       "      <td>2290.67</td>\n",
       "    </tr>\n",
       "    <tr>\n",
       "      <th>199998</th>\n",
       "      <td>5093.0</td>\n",
       "      <td>2015.0</td>\n",
       "      <td>1395.0</td>\n",
       "      <td>110.0</td>\n",
       "      <td>auto</td>\n",
       "      <td>4</td>\n",
       "      <td>5</td>\n",
       "      <td>2015-12-18 21:13:01.874178+00:00</td>\n",
       "      <td>2016-01-19 06:46:12.073615+00:00</td>\n",
       "      <td>28989.71</td>\n",
       "    </tr>\n",
       "    <tr>\n",
       "      <th>199999</th>\n",
       "      <td>81600.0</td>\n",
       "      <td>2008.0</td>\n",
       "      <td>1995.0</td>\n",
       "      <td>105.0</td>\n",
       "      <td>man</td>\n",
       "      <td>3.0</td>\n",
       "      <td>4.0</td>\n",
       "      <td>2016-02-27 16:15:52.426418+00:00</td>\n",
       "      <td>2016-07-03 16:51:38.160444+00:00</td>\n",
       "      <td>9300.00</td>\n",
       "    </tr>\n",
       "  </tbody>\n",
       "</table>\n",
       "<p>200000 rows × 10 columns</p>\n",
       "</div>"
      ],
      "text/plain": [
       "         mileage  manufacture_year  ...                    date_last_seen  price_eur\n",
       "0       178000.0            2000.0  ...  2016-01-07 00:56:35.766128+00:00    2500.30\n",
       "1       135000.0            2007.0  ...  2016-01-18 19:02:24.218185+00:00    2980.24\n",
       "2       138000.0            2005.0  ...  2016-07-03 17:39:48.838084+00:00    8010.25\n",
       "3       105000.0            2009.0  ...  2016-01-02 10:02:05.676711+00:00    2300.26\n",
       "4       129385.0            2003.0  ...  2016-01-17 22:49:09.853789+00:00    2800.30\n",
       "...          ...               ...  ...                               ...        ...\n",
       "199995  280000.0            1997.0  ...  2015-12-15 01:22:14.496198+00:00    1299.15\n",
       "199996       NaN            2000.0  ...  2016-01-27 20:40:15.463610+00:00    2072.54\n",
       "199997  150000.0            2006.0  ...  2015-12-29 03:51:10.129326+00:00    2290.67\n",
       "199998    5093.0            2015.0  ...  2016-01-19 06:46:12.073615+00:00   28989.71\n",
       "199999   81600.0            2008.0  ...  2016-07-03 16:51:38.160444+00:00    9300.00\n",
       "\n",
       "[200000 rows x 10 columns]"
      ]
     },
     "execution_count": 3,
     "metadata": {
      "tags": []
     },
     "output_type": "execute_result"
    }
   ],
   "source": [
    "dataset = dataset.iloc[:, [2,3,4,5,9,10,11,13,14,15]]\n",
    "dataset"
   ]
  },
  {
   "cell_type": "code",
   "execution_count": 4,
   "metadata": {
    "colab": {
     "base_uri": "https://localhost:8080/",
     "height": 306
    },
    "colab_type": "code",
    "id": "loRuHdhIWuwi",
    "outputId": "d2385b2c-9f62-4027-f4af-3eed21609be8"
   },
   "outputs": [
    {
     "name": "stdout",
     "output_type": "stream",
     "text": [
      "<class 'pandas.core.frame.DataFrame'>\n",
      "RangeIndex: 200000 entries, 0 to 199999\n",
      "Data columns (total 10 columns):\n",
      " #   Column               Non-Null Count   Dtype  \n",
      "---  ------               --------------   -----  \n",
      " 0   mileage              182252 non-null  float64\n",
      " 1   manufacture_year     181223 non-null  float64\n",
      " 2   engine_displacement  159210 non-null  float64\n",
      " 3   engine_power         170868 non-null  float64\n",
      " 4   transmission         160413 non-null  object \n",
      " 5   door_count           164243 non-null  object \n",
      " 6   seat_count           156800 non-null  object \n",
      " 7   date_created         200000 non-null  object \n",
      " 8   date_last_seen       200000 non-null  object \n",
      " 9   price_eur            200000 non-null  float64\n",
      "dtypes: float64(5), object(5)\n",
      "memory usage: 15.3+ MB\n"
     ]
    }
   ],
   "source": [
    "dataset.info()"
   ]
  },
  {
   "cell_type": "markdown",
   "metadata": {
    "colab_type": "text",
    "id": "8MT7XpB9TrwD"
   },
   "source": [
    "The manufacture year are well beyond 1883 when the first car was made. Assuming that they are mistakes while recording the data I will put null values there. These null values will be later imputed."
   ]
  },
  {
   "cell_type": "code",
   "execution_count": 5,
   "metadata": {
    "colab": {
     "base_uri": "https://localhost:8080/",
     "height": 102
    },
    "colab_type": "code",
    "id": "mjJN6CTsh03-",
    "outputId": "ca827b1e-57f7-4404-a3e8-08c85566a537"
   },
   "outputs": [
    {
     "name": "stderr",
     "output_type": "stream",
     "text": [
      "/usr/local/lib/python3.6/dist-packages/ipykernel_launcher.py:3: SettingWithCopyWarning: \n",
      "A value is trying to be set on a copy of a slice from a DataFrame\n",
      "\n",
      "See the caveats in the documentation: https://pandas.pydata.org/pandas-docs/stable/user_guide/indexing.html#returning-a-view-versus-a-copy\n",
      "  This is separate from the ipykernel package so we can avoid doing imports until\n"
     ]
    }
   ],
   "source": [
    "for i in range(dataset.shape[0]):\n",
    "  if dataset.manufacture_year[i] < 1885:\n",
    "    dataset.manufacture_year[i] = np.nan\n"
   ]
  },
  {
   "cell_type": "markdown",
   "metadata": {
    "colab_type": "text",
    "id": "pTEYjFPsUF7W"
   },
   "source": [
    "Converting the year to timestamp. Then the manufacture year will be subtracted from current year to find out how many years has it been since the car's manufacture."
   ]
  },
  {
   "cell_type": "code",
   "execution_count": 6,
   "metadata": {
    "colab": {
     "base_uri": "https://localhost:8080/",
     "height": 187
    },
    "colab_type": "code",
    "id": "a_KcklIjdeJK",
    "outputId": "64e6160e-b0ab-4d1a-ca6a-8147325438ef"
   },
   "outputs": [
    {
     "name": "stderr",
     "output_type": "stream",
     "text": [
      "/usr/local/lib/python3.6/dist-packages/ipykernel_launcher.py:8: SettingWithCopyWarning: \n",
      "A value is trying to be set on a copy of a slice from a DataFrame\n",
      "\n",
      "See the caveats in the documentation: https://pandas.pydata.org/pandas-docs/stable/user_guide/indexing.html#returning-a-view-versus-a-copy\n",
      "  \n",
      "/usr/local/lib/python3.6/dist-packages/pandas/core/indexing.py:671: SettingWithCopyWarning: \n",
      "A value is trying to be set on a copy of a slice from a DataFrame\n",
      "\n",
      "See the caveats in the documentation: https://pandas.pydata.org/pandas-docs/stable/user_guide/indexing.html#returning-a-view-versus-a-copy\n",
      "  self._setitem_with_indexer(indexer, value)\n"
     ]
    }
   ],
   "source": [
    "dataset.manufacture_year = pd.to_datetime(dataset.manufacture_year, format='%Y')\n",
    "ts = pd.to_datetime('1/1/2020')\n",
    "ts.year\n",
    "\n",
    "# print((ts.year - dataset.manufacture_year.year))\n",
    "\n",
    "for i in range(dataset.shape[0]):\n",
    "  dataset.manufacture_year[i] = ts.year - dataset.manufacture_year[i].year\n",
    "\n",
    "dataset.manufacture_year = dataset.manufacture_year.astype(float)"
   ]
  },
  {
   "cell_type": "markdown",
   "metadata": {
    "colab_type": "text",
    "id": "OJLJJ_ElUs7G"
   },
   "source": [
    "Label Encoding the transmission type. Later it will be one hot encoded if needed."
   ]
  },
  {
   "cell_type": "code",
   "execution_count": 0,
   "metadata": {
    "colab": {},
    "colab_type": "code",
    "id": "HsxIGzmanQs5"
   },
   "outputs": [],
   "source": [
    "from sklearn.preprocessing import LabelEncoder\n",
    "dataset.transmission = dataset.transmission.astype(str)\n",
    "labelencoder = LabelEncoder()\n",
    "dataset.transmission = labelencoder.fit_transform(dataset.transmission)"
   ]
  },
  {
   "cell_type": "code",
   "execution_count": 12,
   "metadata": {
    "colab": {
     "base_uri": "https://localhost:8080/",
     "height": 85
    },
    "colab_type": "code",
    "id": "uOIOLge2nf_5",
    "outputId": "56ad82f4-46ff-48b5-c43a-0f394e92886b"
   },
   "outputs": [
    {
     "data": {
      "text/plain": [
       "1    117622\n",
       "0     42791\n",
       "2     39587\n",
       "Name: transmission, dtype: int64"
      ]
     },
     "execution_count": 12,
     "metadata": {
      "tags": []
     },
     "output_type": "execute_result"
    }
   ],
   "source": [
    "dataset.transmission.value_counts()"
   ]
  },
  {
   "cell_type": "markdown",
   "metadata": {
    "colab_type": "text",
    "id": "Y4MNK8cFU3St"
   },
   "source": [
    "Label Encoder encoded the null values as well. Retrieving the null values"
   ]
  },
  {
   "cell_type": "code",
   "execution_count": 13,
   "metadata": {
    "colab": {
     "base_uri": "https://localhost:8080/",
     "height": 102
    },
    "colab_type": "code",
    "id": "kMeSfc6Lsy6W",
    "outputId": "99cd8485-471c-454f-c31d-31bc511acd2c"
   },
   "outputs": [
    {
     "name": "stderr",
     "output_type": "stream",
     "text": [
      "/usr/local/lib/python3.6/dist-packages/ipykernel_launcher.py:1: SettingWithCopyWarning: \n",
      "A value is trying to be set on a copy of a slice from a DataFrame\n",
      "\n",
      "See the caveats in the documentation: https://pandas.pydata.org/pandas-docs/stable/user_guide/indexing.html#returning-a-view-versus-a-copy\n",
      "  \"\"\"Entry point for launching an IPython kernel.\n"
     ]
    }
   ],
   "source": [
    "dataset.transmission[dataset.transmission == 2] = np.nan "
   ]
  },
  {
   "cell_type": "markdown",
   "metadata": {
    "colab_type": "text",
    "id": "Ct5Bj4zqVEAY"
   },
   "source": [
    "The door count and seat count contains the string 'None'. Chaging it to nan."
   ]
  },
  {
   "cell_type": "code",
   "execution_count": 14,
   "metadata": {
    "colab": {
     "base_uri": "https://localhost:8080/",
     "height": 187
    },
    "colab_type": "code",
    "id": "m15JHxodwdlx",
    "outputId": "23991083-0923-4dea-8fd9-42310918ec43"
   },
   "outputs": [
    {
     "name": "stderr",
     "output_type": "stream",
     "text": [
      "/usr/local/lib/python3.6/dist-packages/ipykernel_launcher.py:1: SettingWithCopyWarning: \n",
      "A value is trying to be set on a copy of a slice from a DataFrame\n",
      "\n",
      "See the caveats in the documentation: https://pandas.pydata.org/pandas-docs/stable/user_guide/indexing.html#returning-a-view-versus-a-copy\n",
      "  \"\"\"Entry point for launching an IPython kernel.\n",
      "/usr/local/lib/python3.6/dist-packages/ipykernel_launcher.py:3: SettingWithCopyWarning: \n",
      "A value is trying to be set on a copy of a slice from a DataFrame\n",
      "\n",
      "See the caveats in the documentation: https://pandas.pydata.org/pandas-docs/stable/user_guide/indexing.html#returning-a-view-versus-a-copy\n",
      "  This is separate from the ipykernel package so we can avoid doing imports until\n"
     ]
    }
   ],
   "source": [
    "dataset.door_count[dataset.door_count == 'None'] = np.nan\n",
    "dataset.door_count = dataset.door_count.astype(float)\n",
    "dataset.seat_count[dataset.seat_count == 'None'] = np.nan\n",
    "dataset.seat_count = dataset.seat_count.astype(float)"
   ]
  },
  {
   "cell_type": "code",
   "execution_count": 15,
   "metadata": {
    "colab": {
     "base_uri": "https://localhost:8080/",
     "height": 609
    },
    "colab_type": "code",
    "id": "VbYYNnbyAvS4",
    "outputId": "3cf85596-0db5-4aee-8b2a-f0849935cd66"
   },
   "outputs": [
    {
     "data": {
      "text/html": [
       "<div>\n",
       "<style scoped>\n",
       "    .dataframe tbody tr th:only-of-type {\n",
       "        vertical-align: middle;\n",
       "    }\n",
       "\n",
       "    .dataframe tbody tr th {\n",
       "        vertical-align: top;\n",
       "    }\n",
       "\n",
       "    .dataframe thead th {\n",
       "        text-align: right;\n",
       "    }\n",
       "</style>\n",
       "<table border=\"1\" class=\"dataframe\">\n",
       "  <thead>\n",
       "    <tr style=\"text-align: right;\">\n",
       "      <th></th>\n",
       "      <th>mileage</th>\n",
       "      <th>manufacture_year</th>\n",
       "      <th>engine_displacement</th>\n",
       "      <th>engine_power</th>\n",
       "      <th>transmission</th>\n",
       "      <th>door_count</th>\n",
       "      <th>seat_count</th>\n",
       "      <th>date_created</th>\n",
       "      <th>date_last_seen</th>\n",
       "      <th>price_eur</th>\n",
       "    </tr>\n",
       "  </thead>\n",
       "  <tbody>\n",
       "    <tr>\n",
       "      <th>0</th>\n",
       "      <td>178000.0</td>\n",
       "      <td>20.0</td>\n",
       "      <td>1390.0</td>\n",
       "      <td>55.0</td>\n",
       "      <td>1.0</td>\n",
       "      <td>4.0</td>\n",
       "      <td>5.0</td>\n",
       "      <td>2016-01-03 19:42:48.205853+00:00</td>\n",
       "      <td>2016-01-07 00:56:35.766128+00:00</td>\n",
       "      <td>2500.30</td>\n",
       "    </tr>\n",
       "    <tr>\n",
       "      <th>1</th>\n",
       "      <td>135000.0</td>\n",
       "      <td>13.0</td>\n",
       "      <td>1149.0</td>\n",
       "      <td>55.0</td>\n",
       "      <td>1.0</td>\n",
       "      <td>4.0</td>\n",
       "      <td>5.0</td>\n",
       "      <td>2015-12-08 08:46:03.020179+00:00</td>\n",
       "      <td>2016-01-18 19:02:24.218185+00:00</td>\n",
       "      <td>2980.24</td>\n",
       "    </tr>\n",
       "    <tr>\n",
       "      <th>2</th>\n",
       "      <td>138000.0</td>\n",
       "      <td>15.0</td>\n",
       "      <td>1984.0</td>\n",
       "      <td>147.0</td>\n",
       "      <td>1.0</td>\n",
       "      <td>4.0</td>\n",
       "      <td>5.0</td>\n",
       "      <td>2016-03-05 22:09:11.127858+00:00</td>\n",
       "      <td>2016-07-03 17:39:48.838084+00:00</td>\n",
       "      <td>8010.25</td>\n",
       "    </tr>\n",
       "    <tr>\n",
       "      <th>3</th>\n",
       "      <td>105000.0</td>\n",
       "      <td>11.0</td>\n",
       "      <td>NaN</td>\n",
       "      <td>NaN</td>\n",
       "      <td>NaN</td>\n",
       "      <td>NaN</td>\n",
       "      <td>NaN</td>\n",
       "      <td>2015-12-12 19:48:16.546082+00:00</td>\n",
       "      <td>2016-01-02 10:02:05.676711+00:00</td>\n",
       "      <td>2300.26</td>\n",
       "    </tr>\n",
       "    <tr>\n",
       "      <th>4</th>\n",
       "      <td>129385.0</td>\n",
       "      <td>17.0</td>\n",
       "      <td>NaN</td>\n",
       "      <td>NaN</td>\n",
       "      <td>NaN</td>\n",
       "      <td>NaN</td>\n",
       "      <td>NaN</td>\n",
       "      <td>2016-01-01 17:28:46.527414+00:00</td>\n",
       "      <td>2016-01-17 22:49:09.853789+00:00</td>\n",
       "      <td>2800.30</td>\n",
       "    </tr>\n",
       "    <tr>\n",
       "      <th>...</th>\n",
       "      <td>...</td>\n",
       "      <td>...</td>\n",
       "      <td>...</td>\n",
       "      <td>...</td>\n",
       "      <td>...</td>\n",
       "      <td>...</td>\n",
       "      <td>...</td>\n",
       "      <td>...</td>\n",
       "      <td>...</td>\n",
       "      <td>...</td>\n",
       "    </tr>\n",
       "    <tr>\n",
       "      <th>199995</th>\n",
       "      <td>280000.0</td>\n",
       "      <td>23.0</td>\n",
       "      <td>NaN</td>\n",
       "      <td>NaN</td>\n",
       "      <td>NaN</td>\n",
       "      <td>NaN</td>\n",
       "      <td>NaN</td>\n",
       "      <td>2015-12-12 17:05:30.968304+00:00</td>\n",
       "      <td>2015-12-15 01:22:14.496198+00:00</td>\n",
       "      <td>1299.15</td>\n",
       "    </tr>\n",
       "    <tr>\n",
       "      <th>199996</th>\n",
       "      <td>NaN</td>\n",
       "      <td>20.0</td>\n",
       "      <td>1900.0</td>\n",
       "      <td>66.0</td>\n",
       "      <td>1.0</td>\n",
       "      <td>NaN</td>\n",
       "      <td>NaN</td>\n",
       "      <td>2015-11-14 20:36:38.222092+00:00</td>\n",
       "      <td>2016-01-27 20:40:15.463610+00:00</td>\n",
       "      <td>2072.54</td>\n",
       "    </tr>\n",
       "    <tr>\n",
       "      <th>199997</th>\n",
       "      <td>150000.0</td>\n",
       "      <td>14.0</td>\n",
       "      <td>NaN</td>\n",
       "      <td>NaN</td>\n",
       "      <td>1.0</td>\n",
       "      <td>NaN</td>\n",
       "      <td>NaN</td>\n",
       "      <td>2015-12-28 01:50:23.539210+00:00</td>\n",
       "      <td>2015-12-29 03:51:10.129326+00:00</td>\n",
       "      <td>2290.67</td>\n",
       "    </tr>\n",
       "    <tr>\n",
       "      <th>199998</th>\n",
       "      <td>5093.0</td>\n",
       "      <td>5.0</td>\n",
       "      <td>1395.0</td>\n",
       "      <td>110.0</td>\n",
       "      <td>0.0</td>\n",
       "      <td>4.0</td>\n",
       "      <td>5.0</td>\n",
       "      <td>2015-12-18 21:13:01.874178+00:00</td>\n",
       "      <td>2016-01-19 06:46:12.073615+00:00</td>\n",
       "      <td>28989.71</td>\n",
       "    </tr>\n",
       "    <tr>\n",
       "      <th>199999</th>\n",
       "      <td>81600.0</td>\n",
       "      <td>12.0</td>\n",
       "      <td>1995.0</td>\n",
       "      <td>105.0</td>\n",
       "      <td>1.0</td>\n",
       "      <td>3.0</td>\n",
       "      <td>4.0</td>\n",
       "      <td>2016-02-27 16:15:52.426418+00:00</td>\n",
       "      <td>2016-07-03 16:51:38.160444+00:00</td>\n",
       "      <td>9300.00</td>\n",
       "    </tr>\n",
       "  </tbody>\n",
       "</table>\n",
       "<p>200000 rows × 10 columns</p>\n",
       "</div>"
      ],
      "text/plain": [
       "         mileage  manufacture_year  ...                    date_last_seen  price_eur\n",
       "0       178000.0              20.0  ...  2016-01-07 00:56:35.766128+00:00    2500.30\n",
       "1       135000.0              13.0  ...  2016-01-18 19:02:24.218185+00:00    2980.24\n",
       "2       138000.0              15.0  ...  2016-07-03 17:39:48.838084+00:00    8010.25\n",
       "3       105000.0              11.0  ...  2016-01-02 10:02:05.676711+00:00    2300.26\n",
       "4       129385.0              17.0  ...  2016-01-17 22:49:09.853789+00:00    2800.30\n",
       "...          ...               ...  ...                               ...        ...\n",
       "199995  280000.0              23.0  ...  2015-12-15 01:22:14.496198+00:00    1299.15\n",
       "199996       NaN              20.0  ...  2016-01-27 20:40:15.463610+00:00    2072.54\n",
       "199997  150000.0              14.0  ...  2015-12-29 03:51:10.129326+00:00    2290.67\n",
       "199998    5093.0               5.0  ...  2016-01-19 06:46:12.073615+00:00   28989.71\n",
       "199999   81600.0              12.0  ...  2016-07-03 16:51:38.160444+00:00    9300.00\n",
       "\n",
       "[200000 rows x 10 columns]"
      ]
     },
     "execution_count": 15,
     "metadata": {
      "tags": []
     },
     "output_type": "execute_result"
    }
   ],
   "source": [
    "dataset"
   ]
  },
  {
   "cell_type": "markdown",
   "metadata": {
    "colab_type": "text",
    "id": "zA_dE1zHhLW1"
   },
   "source": [
    "#Data Preprocessing "
   ]
  },
  {
   "cell_type": "markdown",
   "metadata": {
    "colab_type": "text",
    "id": "uWOow6CeVjL6"
   },
   "source": [
    "Separating feature matrix X and the labels y"
   ]
  },
  {
   "cell_type": "code",
   "execution_count": 0,
   "metadata": {
    "colab": {},
    "colab_type": "code",
    "id": "GRwR-LLrAvLn"
   },
   "outputs": [],
   "source": [
    "X = dataset.iloc[:, :7]\n",
    "y = dataset.iloc[:, 9]"
   ]
  },
  {
   "cell_type": "markdown",
   "metadata": {
    "colab_type": "text",
    "id": "A6po917XV0Ys"
   },
   "source": [
    "Imputing the numerical features of X with median and categorical features with mode. The numerical features are further sacled using standardization."
   ]
  },
  {
   "cell_type": "code",
   "execution_count": 17,
   "metadata": {
    "colab": {
     "base_uri": "https://localhost:8080/",
     "height": 419
    },
    "colab_type": "code",
    "id": "LuQ3jzrGDUsW",
    "outputId": "5037ba7a-db7c-45c3-8f3a-06a207eeb0e2"
   },
   "outputs": [
    {
     "data": {
      "text/html": [
       "<div>\n",
       "<style scoped>\n",
       "    .dataframe tbody tr th:only-of-type {\n",
       "        vertical-align: middle;\n",
       "    }\n",
       "\n",
       "    .dataframe tbody tr th {\n",
       "        vertical-align: top;\n",
       "    }\n",
       "\n",
       "    .dataframe thead th {\n",
       "        text-align: right;\n",
       "    }\n",
       "</style>\n",
       "<table border=\"1\" class=\"dataframe\">\n",
       "  <thead>\n",
       "    <tr style=\"text-align: right;\">\n",
       "      <th></th>\n",
       "      <th>0</th>\n",
       "      <th>1</th>\n",
       "      <th>2</th>\n",
       "      <th>3</th>\n",
       "      <th>4</th>\n",
       "      <th>5</th>\n",
       "      <th>6</th>\n",
       "    </tr>\n",
       "  </thead>\n",
       "  <tbody>\n",
       "    <tr>\n",
       "      <th>0</th>\n",
       "      <td>0.192611</td>\n",
       "      <td>-0.330904</td>\n",
       "      <td>-0.993936</td>\n",
       "      <td>-0.055463</td>\n",
       "      <td>0.055973</td>\n",
       "      <td>1.108413</td>\n",
       "      <td>1.0</td>\n",
       "    </tr>\n",
       "    <tr>\n",
       "      <th>1</th>\n",
       "      <td>0.060979</td>\n",
       "      <td>-0.469818</td>\n",
       "      <td>-0.993936</td>\n",
       "      <td>-0.055463</td>\n",
       "      <td>0.055973</td>\n",
       "      <td>0.145755</td>\n",
       "      <td>1.0</td>\n",
       "    </tr>\n",
       "    <tr>\n",
       "      <th>2</th>\n",
       "      <td>0.070162</td>\n",
       "      <td>0.011483</td>\n",
       "      <td>1.350972</td>\n",
       "      <td>-0.055463</td>\n",
       "      <td>0.055973</td>\n",
       "      <td>0.420800</td>\n",
       "      <td>1.0</td>\n",
       "    </tr>\n",
       "    <tr>\n",
       "      <th>3</th>\n",
       "      <td>-0.030858</td>\n",
       "      <td>-0.096882</td>\n",
       "      <td>-0.229292</td>\n",
       "      <td>-0.055463</td>\n",
       "      <td>0.055973</td>\n",
       "      <td>-0.129290</td>\n",
       "      <td>1.0</td>\n",
       "    </tr>\n",
       "    <tr>\n",
       "      <th>4</th>\n",
       "      <td>0.043790</td>\n",
       "      <td>-0.096882</td>\n",
       "      <td>-0.229292</td>\n",
       "      <td>-0.055463</td>\n",
       "      <td>0.055973</td>\n",
       "      <td>0.695845</td>\n",
       "      <td>1.0</td>\n",
       "    </tr>\n",
       "    <tr>\n",
       "      <th>...</th>\n",
       "      <td>...</td>\n",
       "      <td>...</td>\n",
       "      <td>...</td>\n",
       "      <td>...</td>\n",
       "      <td>...</td>\n",
       "      <td>...</td>\n",
       "      <td>...</td>\n",
       "    </tr>\n",
       "    <tr>\n",
       "      <th>199995</th>\n",
       "      <td>0.504856</td>\n",
       "      <td>-0.096882</td>\n",
       "      <td>-0.229292</td>\n",
       "      <td>-0.055463</td>\n",
       "      <td>0.055973</td>\n",
       "      <td>1.520981</td>\n",
       "      <td>1.0</td>\n",
       "    </tr>\n",
       "    <tr>\n",
       "      <th>199996</th>\n",
       "      <td>-0.079837</td>\n",
       "      <td>-0.036935</td>\n",
       "      <td>-0.713567</td>\n",
       "      <td>-0.055463</td>\n",
       "      <td>0.055973</td>\n",
       "      <td>1.108413</td>\n",
       "      <td>1.0</td>\n",
       "    </tr>\n",
       "    <tr>\n",
       "      <th>199997</th>\n",
       "      <td>0.106897</td>\n",
       "      <td>-0.096882</td>\n",
       "      <td>-0.229292</td>\n",
       "      <td>-0.055463</td>\n",
       "      <td>0.055973</td>\n",
       "      <td>0.283277</td>\n",
       "      <td>1.0</td>\n",
       "    </tr>\n",
       "    <tr>\n",
       "      <th>199998</th>\n",
       "      <td>-0.336695</td>\n",
       "      <td>-0.328022</td>\n",
       "      <td>0.407911</td>\n",
       "      <td>-0.055463</td>\n",
       "      <td>0.055973</td>\n",
       "      <td>-0.954426</td>\n",
       "      <td>0.0</td>\n",
       "    </tr>\n",
       "    <tr>\n",
       "      <th>199999</th>\n",
       "      <td>-0.102490</td>\n",
       "      <td>0.017823</td>\n",
       "      <td>0.280471</td>\n",
       "      <td>-1.250920</td>\n",
       "      <td>-0.662553</td>\n",
       "      <td>0.008232</td>\n",
       "      <td>1.0</td>\n",
       "    </tr>\n",
       "  </tbody>\n",
       "</table>\n",
       "<p>200000 rows × 7 columns</p>\n",
       "</div>"
      ],
      "text/plain": [
       "               0         1         2         3         4         5    6\n",
       "0       0.192611 -0.330904 -0.993936 -0.055463  0.055973  1.108413  1.0\n",
       "1       0.060979 -0.469818 -0.993936 -0.055463  0.055973  0.145755  1.0\n",
       "2       0.070162  0.011483  1.350972 -0.055463  0.055973  0.420800  1.0\n",
       "3      -0.030858 -0.096882 -0.229292 -0.055463  0.055973 -0.129290  1.0\n",
       "4       0.043790 -0.096882 -0.229292 -0.055463  0.055973  0.695845  1.0\n",
       "...          ...       ...       ...       ...       ...       ...  ...\n",
       "199995  0.504856 -0.096882 -0.229292 -0.055463  0.055973  1.520981  1.0\n",
       "199996 -0.079837 -0.036935 -0.713567 -0.055463  0.055973  1.108413  1.0\n",
       "199997  0.106897 -0.096882 -0.229292 -0.055463  0.055973  0.283277  1.0\n",
       "199998 -0.336695 -0.328022  0.407911 -0.055463  0.055973 -0.954426  0.0\n",
       "199999 -0.102490  0.017823  0.280471 -1.250920 -0.662553  0.008232  1.0\n",
       "\n",
       "[200000 rows x 7 columns]"
      ]
     },
     "execution_count": 17,
     "metadata": {
      "tags": []
     },
     "output_type": "execute_result"
    }
   ],
   "source": [
    "from sklearn.impute import SimpleImputer\n",
    "\n",
    "X_num = X.drop(['transmission', 'manufacture_year'], axis = 1)\n",
    "# X_num = X_num.drop('manufacture_year', axis=1)\n",
    "\n",
    "imputer = SimpleImputer(strategy= 'median')\n",
    "X_num = imputer.fit_transform(X_num) \n",
    "X_num = pd.DataFrame(X_num)\n",
    "\n",
    "X_num =pd.concat([X_num, X['manufacture_year']], axis =1)\n",
    "\n",
    "from sklearn.preprocessing import StandardScaler\n",
    "scaler = StandardScaler()\n",
    "X_num = scaler.fit_transform(X_num)\n",
    "X_num = pd.DataFrame(X_num)\n",
    "\n",
    "X_cat = X['transmission']\n",
    "X = pd.concat([X_num, X_cat], axis=1)\n",
    "\n",
    "imputer = SimpleImputer(strategy = 'most_frequent')\n",
    "\n",
    "X = imputer.fit_transform(X)\n",
    "\n",
    "X = pd.DataFrame(X)\n",
    "X"
   ]
  },
  {
   "cell_type": "markdown",
   "metadata": {
    "colab_type": "text",
    "id": "iwcIEQU9bPm8"
   },
   "source": [
    "Splitting the data into training set and testing set. Used stratified sampling because the categorical value 'transmission' must be proportionally divided into train and test sets."
   ]
  },
  {
   "cell_type": "code",
   "execution_count": 0,
   "metadata": {
    "colab": {},
    "colab_type": "code",
    "id": "JtY-tTTbbNo8"
   },
   "outputs": [],
   "source": [
    "from sklearn.model_selection import train_test_split\n",
    "X_train, X_test, y_train, y_test = train_test_split(X, y, test_size= 0.25, random_state=42, stratify= X[6])"
   ]
  },
  {
   "cell_type": "markdown",
   "metadata": {
    "colab_type": "text",
    "id": "GgGI5YGxc6p4"
   },
   "source": [
    "#Model Selection\n",
    "\n"
   ]
  },
  {
   "cell_type": "markdown",
   "metadata": {
    "colab_type": "text",
    "id": "oQ08Q5OxgSJ1"
   },
   "source": [
    "I tried cross validating 4 different regressors to compare their cv sccore and select one but it took a lot of time and was quite infeasible."
   ]
  },
  {
   "cell_type": "code",
   "execution_count": 0,
   "metadata": {
    "colab": {},
    "colab_type": "code",
    "id": "r0NuoOiRfIKa"
   },
   "outputs": [],
   "source": [
    "from sklearn.model_selection import cross_val_score\n",
    "\n",
    "lin_reg_score = cross_val_score(lin_reg, X_train, y_train, cv=5, scoring='r2')\n",
    "svr_score = cross_val_score(svr, X_train, y_train, cv=5, scoring='r2')\n",
    "dec_tree_score = cross_val_score(dec_tree, X_train, y_train, cv=5, scoring='r2')\n",
    "lin_reg_score = cross_val_score(random_fores, X_train, y_train, cv=5, scoring='r2')"
   ]
  },
  {
   "cell_type": "markdown",
   "metadata": {
    "colab_type": "text",
    "id": "A4vBYQZ9rS4k"
   },
   "source": [
    "I will use the Random Forest Regression because our data contains a lot of outliers. Handling the outliers either by deleting, imputing, discretization will cause loss of information. The random forest and tree algorithms are not affected by outliers as they dont depend on the weighted sum of features. "
   ]
  },
  {
   "cell_type": "code",
   "execution_count": 0,
   "metadata": {
    "colab": {},
    "colab_type": "code",
    "id": "gyPrJJ6Cc5z9"
   },
   "outputs": [],
   "source": [
    "from sklearn.ensemble import RandomForestRegressor\n",
    "random_forest = RandomForestRegressor(random_state=42)"
   ]
  },
  {
   "cell_type": "markdown",
   "metadata": {
    "colab_type": "text",
    "id": "zQh1t632nE6f"
   },
   "source": [
    "# Tuning the hyperparameters of the Random forest regressor"
   ]
  },
  {
   "cell_type": "code",
   "execution_count": 20,
   "metadata": {
    "colab": {
     "base_uri": "https://localhost:8080/",
     "height": 340
    },
    "colab_type": "code",
    "id": "mL3WIm2PnQ3p",
    "outputId": "e646661d-51ea-45e9-ef8b-a81fa4be13ad"
   },
   "outputs": [
    {
     "ename": "KeyboardInterrupt",
     "evalue": "ignored",
     "output_type": "error",
     "traceback": [
      "\u001b[0;31m---------------------------------------------------------------------------\u001b[0m",
      "\u001b[0;31mKeyboardInterrupt\u001b[0m                         Traceback (most recent call last)",
      "\u001b[0;32m<ipython-input-20-117bf3b58266>\u001b[0m in \u001b[0;36m<module>\u001b[0;34m()\u001b[0m\n\u001b[1;32m      9\u001b[0m scoring='r2')\n\u001b[1;32m     10\u001b[0m \u001b[0;34m\u001b[0m\u001b[0m\n\u001b[0;32m---> 11\u001b[0;31m \u001b[0mgrid_search\u001b[0m\u001b[0;34m.\u001b[0m\u001b[0mfit\u001b[0m\u001b[0;34m(\u001b[0m\u001b[0mX_train\u001b[0m\u001b[0;34m,\u001b[0m \u001b[0my_train\u001b[0m\u001b[0;34m)\u001b[0m\u001b[0;34m\u001b[0m\u001b[0;34m\u001b[0m\u001b[0m\n\u001b[0m",
      "\u001b[0;32m/usr/local/lib/python3.6/dist-packages/sklearn/model_selection/_search.py\u001b[0m in \u001b[0;36mfit\u001b[0;34m(self, X, y, groups, **fit_params)\u001b[0m\n\u001b[1;32m    708\u001b[0m                 \u001b[0;32mreturn\u001b[0m \u001b[0mresults\u001b[0m\u001b[0;34m\u001b[0m\u001b[0;34m\u001b[0m\u001b[0m\n\u001b[1;32m    709\u001b[0m \u001b[0;34m\u001b[0m\u001b[0m\n\u001b[0;32m--> 710\u001b[0;31m             \u001b[0mself\u001b[0m\u001b[0;34m.\u001b[0m\u001b[0m_run_search\u001b[0m\u001b[0;34m(\u001b[0m\u001b[0mevaluate_candidates\u001b[0m\u001b[0;34m)\u001b[0m\u001b[0;34m\u001b[0m\u001b[0;34m\u001b[0m\u001b[0m\n\u001b[0m\u001b[1;32m    711\u001b[0m \u001b[0;34m\u001b[0m\u001b[0m\n\u001b[1;32m    712\u001b[0m         \u001b[0;31m# For multi-metric evaluation, store the best_index_, best_params_ and\u001b[0m\u001b[0;34m\u001b[0m\u001b[0;34m\u001b[0m\u001b[0;34m\u001b[0m\u001b[0m\n",
      "\u001b[0;32m/usr/local/lib/python3.6/dist-packages/sklearn/model_selection/_search.py\u001b[0m in \u001b[0;36m_run_search\u001b[0;34m(self, evaluate_candidates)\u001b[0m\n\u001b[1;32m   1149\u001b[0m     \u001b[0;32mdef\u001b[0m \u001b[0m_run_search\u001b[0m\u001b[0;34m(\u001b[0m\u001b[0mself\u001b[0m\u001b[0;34m,\u001b[0m \u001b[0mevaluate_candidates\u001b[0m\u001b[0;34m)\u001b[0m\u001b[0;34m:\u001b[0m\u001b[0;34m\u001b[0m\u001b[0;34m\u001b[0m\u001b[0m\n\u001b[1;32m   1150\u001b[0m         \u001b[0;34m\"\"\"Search all candidates in param_grid\"\"\"\u001b[0m\u001b[0;34m\u001b[0m\u001b[0;34m\u001b[0m\u001b[0m\n\u001b[0;32m-> 1151\u001b[0;31m         \u001b[0mevaluate_candidates\u001b[0m\u001b[0;34m(\u001b[0m\u001b[0mParameterGrid\u001b[0m\u001b[0;34m(\u001b[0m\u001b[0mself\u001b[0m\u001b[0;34m.\u001b[0m\u001b[0mparam_grid\u001b[0m\u001b[0;34m)\u001b[0m\u001b[0;34m)\u001b[0m\u001b[0;34m\u001b[0m\u001b[0;34m\u001b[0m\u001b[0m\n\u001b[0m\u001b[1;32m   1152\u001b[0m \u001b[0;34m\u001b[0m\u001b[0m\n\u001b[1;32m   1153\u001b[0m \u001b[0;34m\u001b[0m\u001b[0m\n",
      "\u001b[0;32m/usr/local/lib/python3.6/dist-packages/sklearn/model_selection/_search.py\u001b[0m in \u001b[0;36mevaluate_candidates\u001b[0;34m(candidate_params)\u001b[0m\n\u001b[1;32m    687\u001b[0m                                \u001b[0;32mfor\u001b[0m \u001b[0mparameters\u001b[0m\u001b[0;34m,\u001b[0m \u001b[0;34m(\u001b[0m\u001b[0mtrain\u001b[0m\u001b[0;34m,\u001b[0m \u001b[0mtest\u001b[0m\u001b[0;34m)\u001b[0m\u001b[0;34m\u001b[0m\u001b[0;34m\u001b[0m\u001b[0m\n\u001b[1;32m    688\u001b[0m                                in product(candidate_params,\n\u001b[0;32m--> 689\u001b[0;31m                                           cv.split(X, y, groups)))\n\u001b[0m\u001b[1;32m    690\u001b[0m \u001b[0;34m\u001b[0m\u001b[0m\n\u001b[1;32m    691\u001b[0m                 \u001b[0;32mif\u001b[0m \u001b[0mlen\u001b[0m\u001b[0;34m(\u001b[0m\u001b[0mout\u001b[0m\u001b[0;34m)\u001b[0m \u001b[0;34m<\u001b[0m \u001b[0;36m1\u001b[0m\u001b[0;34m:\u001b[0m\u001b[0;34m\u001b[0m\u001b[0;34m\u001b[0m\u001b[0m\n",
      "\u001b[0;32m/usr/local/lib/python3.6/dist-packages/joblib/parallel.py\u001b[0m in \u001b[0;36m__call__\u001b[0;34m(self, iterable)\u001b[0m\n\u001b[1;32m   1005\u001b[0m                 \u001b[0mself\u001b[0m\u001b[0;34m.\u001b[0m\u001b[0m_iterating\u001b[0m \u001b[0;34m=\u001b[0m \u001b[0mself\u001b[0m\u001b[0;34m.\u001b[0m\u001b[0m_original_iterator\u001b[0m \u001b[0;32mis\u001b[0m \u001b[0;32mnot\u001b[0m \u001b[0;32mNone\u001b[0m\u001b[0;34m\u001b[0m\u001b[0;34m\u001b[0m\u001b[0m\n\u001b[1;32m   1006\u001b[0m \u001b[0;34m\u001b[0m\u001b[0m\n\u001b[0;32m-> 1007\u001b[0;31m             \u001b[0;32mwhile\u001b[0m \u001b[0mself\u001b[0m\u001b[0;34m.\u001b[0m\u001b[0mdispatch_one_batch\u001b[0m\u001b[0;34m(\u001b[0m\u001b[0miterator\u001b[0m\u001b[0;34m)\u001b[0m\u001b[0;34m:\u001b[0m\u001b[0;34m\u001b[0m\u001b[0;34m\u001b[0m\u001b[0m\n\u001b[0m\u001b[1;32m   1008\u001b[0m                 \u001b[0;32mpass\u001b[0m\u001b[0;34m\u001b[0m\u001b[0;34m\u001b[0m\u001b[0m\n\u001b[1;32m   1009\u001b[0m \u001b[0;34m\u001b[0m\u001b[0m\n",
      "\u001b[0;31mKeyboardInterrupt\u001b[0m: "
     ]
    }
   ],
   "source": [
    "from sklearn.model_selection import GridSearchCV\n",
    "\n",
    "param_grid = [\n",
    "{'n_estimators': [30,100,300], 'max_features': [2, 4, 6, 8]},\n",
    "{'bootstrap': [False], 'n_estimators': [3, 10], 'max_features': [2, 3, 4]},\n",
    "]\n",
    "\n",
    "grid_search = GridSearchCV(random_forest, param_grid, cv=5,\n",
    "scoring='r2')\n",
    "\n",
    "grid_search.fit(X_train, y_train)"
   ]
  },
  {
   "cell_type": "markdown",
   "metadata": {
    "colab_type": "text",
    "id": "574vItnQpfqf"
   },
   "source": [
    "#Evaluating the model on test set\n",
    " \n",
    "I have used r2 score as metric as it is easy to interpret than rmse. The closer it is to 1 better it is."
   ]
  },
  {
   "cell_type": "code",
   "execution_count": 26,
   "metadata": {
    "colab": {
     "base_uri": "https://localhost:8080/",
     "height": 34
    },
    "colab_type": "code",
    "id": "h1mb1TfPqUlW",
    "outputId": "cb2d5385-a784-434a-e1aa-27168209a8e1"
   },
   "outputs": [
    {
     "data": {
      "text/plain": [
       "0.768093433775997"
      ]
     },
     "execution_count": 26,
     "metadata": {
      "tags": []
     },
     "output_type": "execute_result"
    }
   ],
   "source": [
    "random_forest.fit(X_train, y_train)\n",
    "y_pred = random_forest.predict(X_test)\n",
    "\n",
    "from sklearn.metrics import r2_score\n",
    "\n",
    "r2 = r2_score(y_test, y_pred)\n"
   ]
  },
  {
   "cell_type": "code",
   "execution_count": 28,
   "metadata": {
    "colab": {
     "base_uri": "https://localhost:8080/",
     "height": 34
    },
    "colab_type": "code",
    "id": "3OiSW3yMrrHf",
    "outputId": "9d5b59d9-6c71-412a-84a0-963ec60e4bec"
   },
   "outputs": [
    {
     "name": "stdout",
     "output_type": "stream",
     "text": [
      "r2 score: 0.768093433775997\n"
     ]
    }
   ],
   "source": [
    "print('r2 score:', r2)"
   ]
  }
 ],
 "metadata": {
  "colab": {
   "collapsed_sections": [],
   "name": "Assessment.ipynb",
   "provenance": []
  },
  "kernelspec": {
   "display_name": "Python 3",
   "language": "python",
   "name": "python3"
  },
  "language_info": {
   "codemirror_mode": {
    "name": "ipython",
    "version": 3
   },
   "file_extension": ".py",
   "mimetype": "text/x-python",
   "name": "python",
   "nbconvert_exporter": "python",
   "pygments_lexer": "ipython3",
   "version": "3.6.9"
  }
 },
 "nbformat": 4,
 "nbformat_minor": 1
}
